{
 "cells": [
  {
   "cell_type": "code",
   "execution_count": 1,
   "id": "e3c965c7",
   "metadata": {},
   "outputs": [],
   "source": [
    "import pandas as pd \n",
    "import numpy as np\n",
    "import matplotlib.pyplot as plt\n",
    "import openpyxl \n",
    "import os"
   ]
  },
  {
   "cell_type": "code",
   "execution_count": 2,
   "id": "7122f962",
   "metadata": {},
   "outputs": [],
   "source": [
    "from sklearn.linear_model import LinearRegression\n",
    "from sklearn.model_selection import train_test_split\n",
    "from sklearn.metrics import mean_squared_error\n",
    "from sklearn import preprocessing\n",
    "from sklearn.metrics import r2_score\n",
    "from scipy import stats\n",
    "import csv\n",
    "import statsmodels.api as sm"
   ]
  },
  {
   "cell_type": "code",
   "execution_count": 3,
   "id": "e9c68380",
   "metadata": {},
   "outputs": [],
   "source": [
    "from load_data import load_processed_general_data\n",
    "from load_data import load_processed_society_data\n",
    "from load_data import load_processed_quality_of_life_data"
   ]
  },
  {
   "cell_type": "code",
   "execution_count": null,
   "id": "3fb6d77d",
   "metadata": {},
   "outputs": [],
   "source": [
    "def MinMaxNormal(df):\n",
    "    normalized_df=(df-df.min())/(df.max()-df.min())\n",
    "    return normalized_df"
   ]
  },
  {
   "cell_type": "code",
   "execution_count": null,
   "id": "d0098069",
   "metadata": {},
   "outputs": [],
   "source": [
    "def denormal(normalized_df,original_df):\n",
    "    df = (normalized_df*(original_df.max()-original_df.min()))\n",
    "    df+=original_df.min()\n",
    "    return df"
   ]
  },
  {
   "cell_type": "code",
   "execution_count": null,
   "id": "c31980ec",
   "metadata": {},
   "outputs": [],
   "source": [
    "def mean_absolute_percentage_error(y_true, y_pred): \n",
    "    MSPE = mean_squared_error(y_true,y_pred,squared = True)/np.mean(y_true) * 100\n",
    "    return np.abs(MSPE)"
   ]
  },
  {
   "cell_type": "code",
   "execution_count": null,
   "id": "a6d18b26",
   "metadata": {},
   "outputs": [],
   "source": [
    "def R2test(test_set,value_set):\n",
    "    results = []\n",
    "    for i in  range(len(value_set[0,:])):\n",
    "        R2 = r2_score(test_set,value_set[:,i])\n",
    "        results.append(R2)\n",
    "    return results"
   ]
  },
  {
   "cell_type": "code",
   "execution_count": null,
   "id": "91bef9b9",
   "metadata": {},
   "outputs": [],
   "source": [
    "def produce_predictions_linear_regression(train_X, test_X, train_y, test_y):\n",
    "    # data fitting\n",
    "    model = LinearRegression().fit(train_X, train_y)\n",
    "    # make predictions\n",
    "    predictions = model.predict(test_X)\n",
    "    return predictions,model"
   ]
  }
 ],
 "metadata": {
  "kernelspec": {
   "display_name": "Python 3",
   "language": "python",
   "name": "python3"
  },
  "language_info": {
   "codemirror_mode": {
    "name": "ipython",
    "version": 3
   },
   "file_extension": ".py",
   "mimetype": "text/x-python",
   "name": "python",
   "nbconvert_exporter": "python",
   "pygments_lexer": "ipython3",
   "version": "3.8.8"
  }
 },
 "nbformat": 4,
 "nbformat_minor": 5
}
