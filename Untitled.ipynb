{
 "cells": [
  {
   "cell_type": "code",
   "execution_count": 15,
   "id": "89ed8035",
   "metadata": {},
   "outputs": [
    {
     "name": "stderr",
     "output_type": "stream",
     "text": [
      "'pwd' is not recognized as an internal or external command,\n",
      "operable program or batch file.\n",
      "'ls' is not recognized as an internal or external command,\n",
      "operable program or batch file.\n"
     ]
    }
   ],
   "source": [
    "#notebook for heatmap\n",
    "import geopandas as gpd\n",
    "import pandas as pd\n",
    "import os \n",
    "import sys\n",
    "import json\n",
    "import geoplot as gplt\n",
    "import plotly.express as px\n",
    "import topojson\n",
    "import plotly.plotly as py\n",
    "from plotly.graph_objs import *\n",
    "!pwd\n",
    "!ls"
   ]
  },
  {
   "cell_type": "code",
   "execution_count": 22,
   "id": "4e62f39f",
   "metadata": {},
   "outputs": [
    {
     "name": "stdout",
     "output_type": "stream",
     "text": [
      "            id    LAD13CD LAD13CDO               LAD13NM LAD13NMW  \\\n",
      "0    E06000001  E06000001     00EB            Hartlepool     None   \n",
      "1    E06000002  E06000002     00EC         Middlesbrough     None   \n",
      "2    E06000003  E06000003     00EE  Redcar and Cleveland     None   \n",
      "3    E06000004  E06000004     00EF      Stockton-on-Tees     None   \n",
      "4    E06000005  E06000005     00EH            Darlington     None   \n",
      "..         ...        ...      ...                   ...      ...   \n",
      "321  E09000029  E09000029     00BF                Sutton     None   \n",
      "322  E09000030  E09000030     00BG         Tower Hamlets     None   \n",
      "323  E09000031  E09000031     00BH        Waltham Forest     None   \n",
      "324  E09000032  E09000032     00BJ            Wandsworth     None   \n",
      "325  E09000033  E09000033     00BK           Westminster     None   \n",
      "\n",
      "                                              geometry  \n",
      "0    MULTIPOLYGON (((-1.24244 54.72219, -1.24162 54...  \n",
      "1    MULTIPOLYGON (((-1.19744 54.58184, -1.19416 54...  \n",
      "2    MULTIPOLYGON (((-1.20071 54.57768, -1.19989 54...  \n",
      "3    MULTIPOLYGON (((-1.28171 54.56460, -1.27762 54...  \n",
      "4    POLYGON ((-1.43800 54.59493, -1.43554 54.59552...  \n",
      "..                                                 ...  \n",
      "321  POLYGON ((-0.13456 51.39073, -0.13292 51.39013...  \n",
      "322  POLYGON ((-0.01673 51.54356, -0.01591 51.54237...  \n",
      "323  POLYGON ((0.02172 51.62861, 0.02091 51.62920, ...  \n",
      "324  POLYGON ((-0.14028 51.41927, -0.14438 51.41749...  \n",
      "325  POLYGON ((-0.11165 51.51561, -0.11083 51.51383...  \n",
      "\n",
      "[326 rows x 6 columns]\n"
     ]
    },
    {
     "ename": "ValueError",
     "evalue": "Value of 'locations' is not the name of a column in 'data_frame'. Expected one of ['Unnamed: 0', 'RF Importance'] but received: fips",
     "output_type": "error",
     "traceback": [
      "\u001b[1;31m---------------------------------------------------------------------------\u001b[0m",
      "\u001b[1;31mValueError\u001b[0m                                Traceback (most recent call last)",
      "Input \u001b[1;32mIn [22]\u001b[0m, in \u001b[0;36m<cell line: 6>\u001b[1;34m()\u001b[0m\n\u001b[0;32m      3\u001b[0m counties \u001b[38;5;241m=\u001b[39m gpd\u001b[38;5;241m.\u001b[39mread_file(\u001b[38;5;124m'\u001b[39m\u001b[38;5;124mtopo_lad.json\u001b[39m\u001b[38;5;124m'\u001b[39m)\n\u001b[0;32m      4\u001b[0m \u001b[38;5;28mprint\u001b[39m(counties)\n\u001b[1;32m----> 6\u001b[0m fig \u001b[38;5;241m=\u001b[39m \u001b[43mpx\u001b[49m\u001b[38;5;241;43m.\u001b[39;49m\u001b[43mchoropleth\u001b[49m\u001b[43m(\u001b[49m\u001b[43mdf\u001b[49m\u001b[43m,\u001b[49m\u001b[43m \u001b[49m\u001b[43mgeojson\u001b[49m\u001b[38;5;241;43m=\u001b[39;49m\u001b[43mcounties\u001b[49m\u001b[43m,\u001b[49m\u001b[43m \u001b[49m\u001b[43mlocations\u001b[49m\u001b[38;5;241;43m=\u001b[39;49m\u001b[38;5;124;43m'\u001b[39;49m\u001b[38;5;124;43mfips\u001b[39;49m\u001b[38;5;124;43m'\u001b[39;49m\u001b[43m,\u001b[49m\u001b[43m \u001b[49m\u001b[43mcolor\u001b[49m\u001b[38;5;241;43m=\u001b[39;49m\u001b[38;5;124;43m'\u001b[39;49m\u001b[38;5;124;43munemp\u001b[39;49m\u001b[38;5;124;43m'\u001b[39;49m\u001b[43m,\u001b[49m\n\u001b[0;32m      7\u001b[0m \u001b[43m                           \u001b[49m\u001b[43mcolor_continuous_scale\u001b[49m\u001b[38;5;241;43m=\u001b[39;49m\u001b[38;5;124;43m\"\u001b[39;49m\u001b[38;5;124;43mViridis\u001b[39;49m\u001b[38;5;124;43m\"\u001b[39;49m\u001b[43m,\u001b[49m\n\u001b[0;32m      8\u001b[0m \u001b[43m                           \u001b[49m\u001b[43mrange_color\u001b[49m\u001b[38;5;241;43m=\u001b[39;49m\u001b[43m(\u001b[49m\u001b[38;5;241;43m0\u001b[39;49m\u001b[43m,\u001b[49m\u001b[43m \u001b[49m\u001b[38;5;241;43m12\u001b[39;49m\u001b[43m)\u001b[49m\u001b[43m,\u001b[49m\n\u001b[0;32m      9\u001b[0m \u001b[43m                           \u001b[49m\u001b[43mscope\u001b[49m\u001b[38;5;241;43m=\u001b[39;49m\u001b[38;5;124;43m\"\u001b[39;49m\u001b[38;5;124;43muk\u001b[39;49m\u001b[38;5;124;43m\"\u001b[39;49m\u001b[43m,\u001b[49m\n\u001b[0;32m     10\u001b[0m \u001b[43m                           \u001b[49m\u001b[43mlabels\u001b[49m\u001b[38;5;241;43m=\u001b[39;49m\u001b[43m{\u001b[49m\u001b[38;5;124;43m'\u001b[39;49m\u001b[38;5;124;43munemp\u001b[39;49m\u001b[38;5;124;43m'\u001b[39;49m\u001b[43m:\u001b[49m\u001b[38;5;124;43m'\u001b[39;49m\u001b[38;5;124;43munemployment rate\u001b[39;49m\u001b[38;5;124;43m'\u001b[39;49m\u001b[43m}\u001b[49m\n\u001b[0;32m     11\u001b[0m \u001b[43m                          \u001b[49m\u001b[43m)\u001b[49m\n\u001b[0;32m     12\u001b[0m fig\u001b[38;5;241m.\u001b[39mupdate_layout(margin\u001b[38;5;241m=\u001b[39m{\u001b[38;5;124m\"\u001b[39m\u001b[38;5;124mr\u001b[39m\u001b[38;5;124m\"\u001b[39m:\u001b[38;5;241m0\u001b[39m,\u001b[38;5;124m\"\u001b[39m\u001b[38;5;124mt\u001b[39m\u001b[38;5;124m\"\u001b[39m:\u001b[38;5;241m0\u001b[39m,\u001b[38;5;124m\"\u001b[39m\u001b[38;5;124ml\u001b[39m\u001b[38;5;124m\"\u001b[39m:\u001b[38;5;241m0\u001b[39m,\u001b[38;5;124m\"\u001b[39m\u001b[38;5;124mb\u001b[39m\u001b[38;5;124m\"\u001b[39m:\u001b[38;5;241m0\u001b[39m})\n\u001b[0;32m     13\u001b[0m fig\u001b[38;5;241m.\u001b[39mshow()\n",
      "File \u001b[1;32m~\\anaconda3\\envs\\geo_env\\lib\\site-packages\\plotly\\express\\_chart_types.py:1077\u001b[0m, in \u001b[0;36mchoropleth\u001b[1;34m(data_frame, lat, lon, locations, locationmode, geojson, featureidkey, color, facet_row, facet_col, facet_col_wrap, facet_row_spacing, facet_col_spacing, hover_name, hover_data, custom_data, animation_frame, animation_group, category_orders, labels, color_discrete_sequence, color_discrete_map, color_continuous_scale, range_color, color_continuous_midpoint, projection, scope, center, fitbounds, basemap_visible, title, template, width, height)\u001b[0m\n\u001b[0;32m   1037\u001b[0m \u001b[38;5;28;01mdef\u001b[39;00m \u001b[38;5;21mchoropleth\u001b[39m(\n\u001b[0;32m   1038\u001b[0m     data_frame\u001b[38;5;241m=\u001b[39m\u001b[38;5;28;01mNone\u001b[39;00m,\n\u001b[0;32m   1039\u001b[0m     lat\u001b[38;5;241m=\u001b[39m\u001b[38;5;28;01mNone\u001b[39;00m,\n\u001b[1;32m   (...)\u001b[0m\n\u001b[0;32m   1071\u001b[0m     height\u001b[38;5;241m=\u001b[39m\u001b[38;5;28;01mNone\u001b[39;00m,\n\u001b[0;32m   1072\u001b[0m ):\n\u001b[0;32m   1073\u001b[0m     \u001b[38;5;124;03m\"\"\"\u001b[39;00m\n\u001b[0;32m   1074\u001b[0m \u001b[38;5;124;03m    In a choropleth map, each row of `data_frame` is represented by a\u001b[39;00m\n\u001b[0;32m   1075\u001b[0m \u001b[38;5;124;03m    colored region mark on a map.\u001b[39;00m\n\u001b[0;32m   1076\u001b[0m \u001b[38;5;124;03m    \"\"\"\u001b[39;00m\n\u001b[1;32m-> 1077\u001b[0m     \u001b[38;5;28;01mreturn\u001b[39;00m \u001b[43mmake_figure\u001b[49m\u001b[43m(\u001b[49m\n\u001b[0;32m   1078\u001b[0m \u001b[43m        \u001b[49m\u001b[43margs\u001b[49m\u001b[38;5;241;43m=\u001b[39;49m\u001b[38;5;28;43mlocals\u001b[39;49m\u001b[43m(\u001b[49m\u001b[43m)\u001b[49m\u001b[43m,\u001b[49m\n\u001b[0;32m   1079\u001b[0m \u001b[43m        \u001b[49m\u001b[43mconstructor\u001b[49m\u001b[38;5;241;43m=\u001b[39;49m\u001b[43mgo\u001b[49m\u001b[38;5;241;43m.\u001b[39;49m\u001b[43mChoropleth\u001b[49m\u001b[43m,\u001b[49m\n\u001b[0;32m   1080\u001b[0m \u001b[43m        \u001b[49m\u001b[43mtrace_patch\u001b[49m\u001b[38;5;241;43m=\u001b[39;49m\u001b[38;5;28;43mdict\u001b[39;49m\u001b[43m(\u001b[49m\u001b[43mlocationmode\u001b[49m\u001b[38;5;241;43m=\u001b[39;49m\u001b[43mlocationmode\u001b[49m\u001b[43m)\u001b[49m\u001b[43m,\u001b[49m\n\u001b[0;32m   1081\u001b[0m \u001b[43m    \u001b[49m\u001b[43m)\u001b[49m\n",
      "File \u001b[1;32m~\\anaconda3\\envs\\geo_env\\lib\\site-packages\\plotly\\express\\_core.py:1945\u001b[0m, in \u001b[0;36mmake_figure\u001b[1;34m(args, constructor, trace_patch, layout_patch)\u001b[0m\n\u001b[0;32m   1942\u001b[0m layout_patch \u001b[38;5;241m=\u001b[39m layout_patch \u001b[38;5;129;01mor\u001b[39;00m {}\n\u001b[0;32m   1943\u001b[0m apply_default_cascade(args)\n\u001b[1;32m-> 1945\u001b[0m args \u001b[38;5;241m=\u001b[39m \u001b[43mbuild_dataframe\u001b[49m\u001b[43m(\u001b[49m\u001b[43margs\u001b[49m\u001b[43m,\u001b[49m\u001b[43m \u001b[49m\u001b[43mconstructor\u001b[49m\u001b[43m)\u001b[49m\n\u001b[0;32m   1946\u001b[0m \u001b[38;5;28;01mif\u001b[39;00m constructor \u001b[38;5;129;01min\u001b[39;00m [go\u001b[38;5;241m.\u001b[39mTreemap, go\u001b[38;5;241m.\u001b[39mSunburst, go\u001b[38;5;241m.\u001b[39mIcicle] \u001b[38;5;129;01mand\u001b[39;00m args[\u001b[38;5;124m\"\u001b[39m\u001b[38;5;124mpath\u001b[39m\u001b[38;5;124m\"\u001b[39m] \u001b[38;5;129;01mis\u001b[39;00m \u001b[38;5;129;01mnot\u001b[39;00m \u001b[38;5;28;01mNone\u001b[39;00m:\n\u001b[0;32m   1947\u001b[0m     args \u001b[38;5;241m=\u001b[39m process_dataframe_hierarchy(args)\n",
      "File \u001b[1;32m~\\anaconda3\\envs\\geo_env\\lib\\site-packages\\plotly\\express\\_core.py:1405\u001b[0m, in \u001b[0;36mbuild_dataframe\u001b[1;34m(args, constructor)\u001b[0m\n\u001b[0;32m   1402\u001b[0m     args[\u001b[38;5;124m\"\u001b[39m\u001b[38;5;124mcolor\u001b[39m\u001b[38;5;124m\"\u001b[39m] \u001b[38;5;241m=\u001b[39m \u001b[38;5;28;01mNone\u001b[39;00m\n\u001b[0;32m   1403\u001b[0m \u001b[38;5;66;03m# now that things have been prepped, we do the systematic rewriting of `args`\u001b[39;00m\n\u001b[1;32m-> 1405\u001b[0m df_output, wide_id_vars \u001b[38;5;241m=\u001b[39m \u001b[43mprocess_args_into_dataframe\u001b[49m\u001b[43m(\u001b[49m\n\u001b[0;32m   1406\u001b[0m \u001b[43m    \u001b[49m\u001b[43margs\u001b[49m\u001b[43m,\u001b[49m\u001b[43m \u001b[49m\u001b[43mwide_mode\u001b[49m\u001b[43m,\u001b[49m\u001b[43m \u001b[49m\u001b[43mvar_name\u001b[49m\u001b[43m,\u001b[49m\u001b[43m \u001b[49m\u001b[43mvalue_name\u001b[49m\n\u001b[0;32m   1407\u001b[0m \u001b[43m\u001b[49m\u001b[43m)\u001b[49m\n\u001b[0;32m   1409\u001b[0m \u001b[38;5;66;03m# now that `df_output` exists and `args` contains only references, we complete\u001b[39;00m\n\u001b[0;32m   1410\u001b[0m \u001b[38;5;66;03m# the special-case and wide-mode handling by further rewriting args and/or mutating\u001b[39;00m\n\u001b[0;32m   1411\u001b[0m \u001b[38;5;66;03m# df_output\u001b[39;00m\n\u001b[0;32m   1413\u001b[0m count_name \u001b[38;5;241m=\u001b[39m _escape_col_name(df_output, \u001b[38;5;124m\"\u001b[39m\u001b[38;5;124mcount\u001b[39m\u001b[38;5;124m\"\u001b[39m, [var_name, value_name])\n",
      "File \u001b[1;32m~\\anaconda3\\envs\\geo_env\\lib\\site-packages\\plotly\\express\\_core.py:1207\u001b[0m, in \u001b[0;36mprocess_args_into_dataframe\u001b[1;34m(args, wide_mode, var_name, value_name)\u001b[0m\n\u001b[0;32m   1205\u001b[0m         \u001b[38;5;28;01mif\u001b[39;00m argument \u001b[38;5;241m==\u001b[39m \u001b[38;5;124m\"\u001b[39m\u001b[38;5;124mindex\u001b[39m\u001b[38;5;124m\"\u001b[39m:\n\u001b[0;32m   1206\u001b[0m             err_msg \u001b[38;5;241m+\u001b[39m\u001b[38;5;241m=\u001b[39m \u001b[38;5;124m\"\u001b[39m\u001b[38;5;130;01m\\n\u001b[39;00m\u001b[38;5;124m To use the index, pass it in directly as `df.index`.\u001b[39m\u001b[38;5;124m\"\u001b[39m\n\u001b[1;32m-> 1207\u001b[0m         \u001b[38;5;28;01mraise\u001b[39;00m \u001b[38;5;167;01mValueError\u001b[39;00m(err_msg)\n\u001b[0;32m   1208\u001b[0m \u001b[38;5;28;01melif\u001b[39;00m length \u001b[38;5;129;01mand\u001b[39;00m \u001b[38;5;28mlen\u001b[39m(df_input[argument]) \u001b[38;5;241m!=\u001b[39m length:\n\u001b[0;32m   1209\u001b[0m     \u001b[38;5;28;01mraise\u001b[39;00m \u001b[38;5;167;01mValueError\u001b[39;00m(\n\u001b[0;32m   1210\u001b[0m         \u001b[38;5;124m\"\u001b[39m\u001b[38;5;124mAll arguments should have the same length. \u001b[39m\u001b[38;5;124m\"\u001b[39m\n\u001b[0;32m   1211\u001b[0m         \u001b[38;5;124m\"\u001b[39m\u001b[38;5;124mThe length of column argument `df[\u001b[39m\u001b[38;5;132;01m%s\u001b[39;00m\u001b[38;5;124m]` is \u001b[39m\u001b[38;5;132;01m%d\u001b[39;00m\u001b[38;5;124m, whereas the \u001b[39m\u001b[38;5;124m\"\u001b[39m\n\u001b[1;32m   (...)\u001b[0m\n\u001b[0;32m   1218\u001b[0m         )\n\u001b[0;32m   1219\u001b[0m     )\n",
      "\u001b[1;31mValueError\u001b[0m: Value of 'locations' is not the name of a column in 'data_frame'. Expected one of ['Unnamed: 0', 'RF Importance'] but received: fips"
     ]
    }
   ],
   "source": []
  },
  {
   "cell_type": "code",
   "execution_count": 25,
   "id": "209ed7ca",
   "metadata": {},
   "outputs": [
    {
     "name": "stdout",
     "output_type": "stream",
     "text": [
      "            id    LAD13CD LAD13CDO               LAD13NM LAD13NMW  \\\n",
      "0    E06000001  E06000001     00EB            Hartlepool     None   \n",
      "1    E06000002  E06000002     00EC         Middlesbrough     None   \n",
      "2    E06000003  E06000003     00EE  Redcar and Cleveland     None   \n",
      "3    E06000004  E06000004     00EF      Stockton-on-Tees     None   \n",
      "4    E06000005  E06000005     00EH            Darlington     None   \n",
      "..         ...        ...      ...                   ...      ...   \n",
      "321  E09000029  E09000029     00BF                Sutton     None   \n",
      "322  E09000030  E09000030     00BG         Tower Hamlets     None   \n",
      "323  E09000031  E09000031     00BH        Waltham Forest     None   \n",
      "324  E09000032  E09000032     00BJ            Wandsworth     None   \n",
      "325  E09000033  E09000033     00BK           Westminster     None   \n",
      "\n",
      "                                              geometry  \n",
      "0    MULTIPOLYGON (((-1.24244 54.72219, -1.24162 54...  \n",
      "1    MULTIPOLYGON (((-1.19744 54.58184, -1.19416 54...  \n",
      "2    MULTIPOLYGON (((-1.20071 54.57768, -1.19989 54...  \n",
      "3    MULTIPOLYGON (((-1.28171 54.56460, -1.27762 54...  \n",
      "4    POLYGON ((-1.43800 54.59493, -1.43554 54.59552...  \n",
      "..                                                 ...  \n",
      "321  POLYGON ((-0.13456 51.39073, -0.13292 51.39013...  \n",
      "322  POLYGON ((-0.01673 51.54356, -0.01591 51.54237...  \n",
      "323  POLYGON ((0.02172 51.62861, 0.02091 51.62920, ...  \n",
      "324  POLYGON ((-0.14028 51.41927, -0.14438 51.41749...  \n",
      "325  POLYGON ((-0.11165 51.51561, -0.11083 51.51383...  \n",
      "\n",
      "[326 rows x 6 columns]\n"
     ]
    },
    {
     "name": "stderr",
     "output_type": "stream",
     "text": [
      "C:\\Users\\lee_K\\anaconda3\\envs\\geo_env\\lib\\site-packages\\geoplot\\geoplot.py:885: ShapelyDeprecationWarning:\n",
      "\n",
      "Iteration over multi-part geometries is deprecated and will be removed in Shapely 2.0. Use the `geoms` property to access the constituent parts of a multi-part geometry.\n",
      "\n"
     ]
    },
    {
     "data": {
      "text/plain": [
       "<AxesSubplot:>"
      ]
     },
     "execution_count": 25,
     "metadata": {},
     "output_type": "execute_result"
    },
    {
     "data": {
      "image/png": "[encoded data removed]",
      "text/plain": [
       "<Figure size 576x432 with 1 Axes>"
      ]
     },
     "metadata": {
      "needs_background": "light"
     },
     "output_type": "display_data"
    }
   ],
   "source": [
    "j1 = gpd.read_file('topo_lad.json')\n",
    "print(j1)\n",
    "\n",
    "gplt.polyplot(j1)\n",
    "#just a basic plot(need to figure how to plot with name)\n",
    "#use choropleth for ploting the heatmap\n",
    "#make it to the same dataset by merge might solve"
   ]
  },
  {
   "cell_type": "code",
   "execution_count": null,
   "id": "18833dd4",
   "metadata": {},
   "outputs": [],
   "source": [
    "with open('topo_lad.json') as f:\n",
    "    data = json.load(f)"
   ]
  },
  {
   "cell_type": "code",
   "execution_count": null,
   "id": "f6595407",
   "metadata": {},
   "outputs": [],
   "source": [
    "def multipoly_to_polylist2(mpoly):\n",
    " \n",
    "    # find out how many components are in the Multipoly:\n",
    "    npoly = len(mpoly['geometry']['coordinates'])\n",
    " \n",
    "    # create a deep copy of the Multipoly dict:\n",
    "    temp = copy.deepcopy(mpoly)\n",
    " \n",
    "    # extract some bits and pieces out of the deep copy:\n",
    "    plist = []\n",
    " \n",
    "    # loop through the components and make a list of Polygons:\n",
    "    for n in range(0,npoly):\n",
    "        geo_feature = dict(type= \"Feature\")\n",
    "        geo_feature['properties'] = temp['properties']\n",
    "        geo_feature['properties']['part'] = str(n)\n",
    "        geo_feature['geometry'] = dict(type='Polygon')\n",
    "        geo_feature['geometry']['coordinates'] = temp['geometry']['coordinates'][n]\n",
    " \n",
    "        # check whether there's more than one polygon - make sure the shape of the coordinate array\n",
    "        # is correct:\n",
    "        if (npoly>1):\n",
    "            geo_feature['geometry']['coordinates'] = temp['geometry']['coordinates'][n]\n",
    "        else:\n",
    "            geo_feature['geometry']['coordinates'] = [temp['geometry']['coordinates'][n]]\n",
    " \n",
    "        # keep appending each Polygon into the list:\n",
    "        plist.append(copy.deepcopy(geo_feature))\n",
    " \n",
    "    return plist"
   ]
  },
  {
   "cell_type": "code",
   "execution_count": null,
   "id": "8b1c100d",
   "metadata": {},
   "outputs": [],
   "source": [
    "flist = data['features']\n",
    " \n",
    "sources=[]\n",
    "for feature in flist:\n",
    "    plist = multipoly_to_polylist2(feature)\n",
    "    sources.append({\"type\": \"FeatureCollection\", 'features': copy.deepcopy(plist) })"
   ]
  },
  {
   "cell_type": "code",
   "execution_count": null,
   "id": "7d1605d4",
   "metadata": {},
   "outputs": [],
   "source": [
    "lons=[]\n",
    "lats=[]\n",
    "for k in range(len(sources)):\n",
    " \n",
    "    # combine (lon,lat) data for all polygons in region:\n",
    "    npoly = len(sources[k]['features'])\n",
    "    region_coords = np.array(sources[k]['features'][0]['geometry']['coordinates'][0])\n",
    "    for j in range(1,npoly):\n",
    "        tmp = np.array(sources[k]['features'][j]['geometry']['coordinates'][0])\n",
    "        region_coords = np.vstack((region_coords,tmp))\n",
    " \n",
    "    if len(region_coords.shape)>1:\n",
    "        m, M =region_coords[:,0].min(), region_coords[:,0].max()\n",
    "        lons.append(0.5*(m+M))\n",
    "        m, M =region_coords[:,1].min(), region_coords[:,1].max()\n",
    "        lats.append(0.5*(m+M))\n",
    "    else:\n",
    "        m, M =region_coords[0].min(), region_coords[0].max()\n",
    "        lons.append(0.5*(m+M))\n",
    "        m, M =region_coords[1].min(), region_coords[1].max()\n",
    "        lats.append(0.5*(m+M))"
   ]
  },
  {
   "cell_type": "code",
   "execution_count": null,
   "id": "c88af89c",
   "metadata": {},
   "outputs": [],
   "source": [
    "# extract data from pandas dataframe as numpy arrays:\n",
    "unis=df['Uni'].values\n",
    "regions=df['Region'].values\n",
    "colours=df['Colours'].values\n",
    " \n",
    "# just use university sector data:\n",
    "regions = regions[np.where(unis==1)]\n",
    "colours = colours[np.where(unis==1)]"
   ]
  },
  {
   "cell_type": "code",
   "execution_count": null,
   "id": "d7c60317",
   "metadata": {},
   "outputs": [],
   "source": [
    "facecolour=[]\n",
    "for p in range(len(sources)):\n",
    "    feature_region = copy.deepcopy(sources[p]['features'][0]['properties']['NUTS112NM'])\n",
    "    feature_region = feature_region.replace(' (England)','') # remove part of the label for easier matching\n",
    "    feature_region = feature_region.replace(' (England','') # remove part of the label for easier matching\n",
    "    colour = colours[np.where(regions==feature_region)][0]\n",
    "    facecolour.append(colour)"
   ]
  },
  {
   "cell_type": "code",
   "execution_count": null,
   "id": "217ddb1a",
   "metadata": {},
   "outputs": [],
   "source": [
    "NUTS1 = dict(type='scattermapbox',\n",
    "             lat=lats,\n",
    "             lon=lons,\n",
    "             mode='markers',\n",
    "             text=\"\",\n",
    "             marker=dict(size=1, color='r'),\n",
    "             showlegend=False,\n",
    "             hoverinfo='text'\n",
    "            )"
   ]
  },
  {
   "cell_type": "code",
   "execution_count": null,
   "id": "b1fd2eef",
   "metadata": {},
   "outputs": [],
   "source": [
    "layers=[dict(sourcetype = 'geojson',\n",
    "             source = sources[k],\n",
    "             below=\"water\",\n",
    "             type = 'fill',\n",
    "             color = facecolour[k],\n",
    "             opacity=0.7\n",
    "            ) for k in range(len(sources))]"
   ]
  },
  {
   "cell_type": "code",
   "execution_count": null,
   "id": "6430f77d",
   "metadata": {},
   "outputs": [],
   "source": [
    "layout = dict(title='UK Regions Choropleth',\n",
    "              font=dict(family='Balto'),\n",
    "              autosize=False,\n",
    "              width=800,\n",
    "              height=800,\n",
    "              hovermode='closest',\n",
    " \n",
    "              mapbox=dict(accesstoken=mapbox_access_token,\n",
    "                          layers=layers,\n",
    "                          bearing=0,\n",
    "                          center=dict(\n",
    "                          lat=52.4638,\n",
    "                          lon=-1.00),\n",
    "                          pitch=0,\n",
    "                          zoom=5,\n",
    "                    )\n",
    "              )\n",
    " \n",
    "fig = dict(data=[NUTS1], layout=layout)\n",
    "py.iplot(fig, validate=False, filename='UK-Regions')"
   ]
  }
 ],
 "metadata": {
  "kernelspec": {
   "display_name": "Python 3 (ipykernel)",
   "language": "python",
   "name": "python3"
  },
  "language_info": {
   "codemirror_mode": {
    "name": "ipython",
    "version": 3
   },
   "file_extension": ".py",
   "mimetype": "text/x-python",
   "name": "python",
   "nbconvert_exporter": "python",
   "pygments_lexer": "ipython3",
   "version": "3.10.4"
  }
 },
 "nbformat": 4,
 "nbformat_minor": 5
}
