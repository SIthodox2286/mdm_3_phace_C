{
 "cells": [
  {
   "cell_type": "code",
   "execution_count": 250,
   "id": "e451fda9",
   "metadata": {},
   "outputs": [],
   "source": [
    "import pandas as pd \n",
    "import numpy as np\n",
    "import matplotlib.pyplot as plt\n",
    "from tensorflow import keras\n",
    "from tensorflow.keras import layers, metrics\n",
    "import openpyxl"
   ]
  },
  {
   "cell_type": "code",
   "execution_count": 251,
   "id": "ae7a5ad6",
   "metadata": {},
   "outputs": [],
   "source": [
    "def load_council_tax_data():\n",
    "    # Open the Council tax data set\n",
    "    workbook = openpyxl.load_workbook('Data/ENGLAND_council_tax_band_properties.xlsx')\n",
    "    \n",
    "    # read columns that contains the lastest property counts for all bands (2021's) and administrative area names in England.\n",
    "    council_tax_band = workbook['CTSOP4.0']\n",
    "    council_tax_band = pd.DataFrame(council_tax_band.values)\n",
    "    council_tax_band = council_tax_band.drop(labels=range(0,5), axis=0)\n",
    "    council_tax_band = council_tax_band.drop(columns=range(council_tax_band.columns[6],council_tax_band.columns[31]))\n",
    "    council_tax_band = council_tax_band.drop(columns=range(council_tax_band.columns[0],council_tax_band.columns[4]))\n",
    "    council_tax_band = pd.DataFrame(council_tax_band)\n",
    "    council_tax_band = council_tax_band.rename(columns={4:'area_name', 5:'band', 31:'number_of_properties'})\n",
    "    \n",
    "    # Extract the Area Name labels\n",
    "    area_names = list(pd.unique(council_tax_band[:]['area_name']))\n",
    "    \n",
    "    # Extract the properties in each band.\n",
    "    band_A = council_tax_band[council_tax_band[\"band\"]=='A'].replace('-', 0) # A, Up to and including £40,000, tax charge £1,486.91\n",
    "    band_B = council_tax_band[council_tax_band[\"band\"]=='B'].replace('-', 0) # B, £40,001 - £52,000, tax charge £1,734.73\n",
    "    band_C = council_tax_band[council_tax_band[\"band\"]=='C'].replace('-', 0) # C, £52,001 - £68,000, tax charge £1,982.55\n",
    "    band_D = council_tax_band[council_tax_band[\"band\"]=='D'].replace('-', 0) # D, £68,001 - £88,000, tax charge £2,230.37\n",
    "    band_E = council_tax_band[council_tax_band[\"band\"]=='E'].replace('-', 0) # E, £88,001 - £120,000, tax charge £2,726.01\n",
    "    band_F = council_tax_band[council_tax_band[\"band\"]=='F'].replace('-', 0) # F, £120,001 - £160,000, tax charge £3,221.64\n",
    "    band_G = council_tax_band[council_tax_band[\"band\"]=='G'].replace('-', 0) # G, £160,001 - £320,000, tax charge £3,717.28\n",
    "    band_H = council_tax_band[council_tax_band[\"band\"]=='H'].replace('-', 0) # H, Over £320,000, tax charge £4,460.74\n",
    "\n",
    "    # Transform them into nd.array for vector sum purpose.\n",
    "    band_A = np.array(band_A['number_of_properties']).reshape(-1,1)\n",
    "    band_B = np.array(band_B['number_of_properties']).reshape(-1,1)\n",
    "    band_C = np.array(band_C['number_of_properties']).reshape(-1,1)\n",
    "    band_D = np.array(band_D['number_of_properties']).reshape(-1,1)\n",
    "    band_E = np.array(band_E['number_of_properties']).reshape(-1,1)\n",
    "    band_F = np.array(band_F['number_of_properties']).reshape(-1,1)\n",
    "    band_G = np.array(band_G['number_of_properties']).reshape(-1,1)\n",
    "    band_H = np.array(band_H['number_of_properties']).reshape(-1,1)\n",
    "    \n",
    "    # 8 groups are too many for analysis, thus put them into four groups, catergorized by their valuations.\n",
    "    # 0 ~ 52k, approximately the houses that are around 50k, mostly small flats or less favoured housing;\n",
    "    houses_above_0k = pd.DataFrame({'area_names':list(area_names),'property_counts':list((band_A+band_B).reshape(1,-1)[0])})\n",
    "    # 52 ~ 88k, around 100k, low-average standard;\n",
    "    houses_above_52k = pd.DataFrame({'area_names':area_names,'property_counts':list((band_C+band_D).reshape(1,-1)[0])})\n",
    "    # 88k ~ 160k, from 100k to 150k, high-average standard;\n",
    "    houses_above_88k = pd.DataFrame({'area_names':area_names,'property_counts':list((band_E+band_F).reshape(1,-1)[0])})\n",
    "    # 160k above, above 150k, more or less luxury houses;\n",
    "    houses_above_160k = pd.DataFrame({'area_names':area_names,'property_counts':list((band_G+band_H).reshape(1,-1)[0])})\n",
    "    \n",
    "    # Return the tables\n",
    "    return houses_above_0k, houses_above_52k, houses_above_88k, houses_above_160k"
   ]
  },
  {
   "cell_type": "code",
   "execution_count": 252,
   "id": "9b9233af",
   "metadata": {},
   "outputs": [],
   "source": [
    "houses_above_0k, houses_above_52k, houses_above_88k, houses_above_160k = load_council_tax_data()"
   ]
  },
  {
   "cell_type": "code",
   "execution_count": 254,
   "id": "0292a0ac",
   "metadata": {},
   "outputs": [
    {
     "name": "stdout",
     "output_type": "stream",
     "text": [
      "             area_names  property_counts\n",
      "0                  Adur             7860\n",
      "1             Allerdale            30070\n",
      "2          Amber Valley            35060\n",
      "3                  Arun            20800\n",
      "4              Ashfield            41400\n",
      "5               Ashford            17740\n",
      "6               Babergh            16980\n",
      "7  Barking and Dagenham            18060\n",
      "8                Barnet            13970\n",
      "             area_names  property_counts\n",
      "0                  Adur            17650\n",
      "1             Allerdale            12940\n",
      "2          Amber Valley            17000\n",
      "3                  Arun            36070\n",
      "4              Ashfield            13060\n",
      "5               Ashford            22740\n",
      "6               Babergh            16050\n",
      "7  Barking and Dagenham            56730\n",
      "8                Barnet            67760\n",
      "             area_names  property_counts\n",
      "0                  Adur             2730\n",
      "1             Allerdale             4180\n",
      "2          Amber Valley             5130\n",
      "3                  Arun            16460\n",
      "4              Ashfield             1970\n",
      "5               Ashford            12420\n",
      "6               Babergh             6930\n",
      "7  Barking and Dagenham             2120\n",
      "8                Barnet            52600\n",
      "             area_names  property_counts\n",
      "0                  Adur              320\n",
      "1             Allerdale              480\n",
      "2          Amber Valley             1570\n",
      "3                  Arun             2990\n",
      "4              Ashfield              150\n",
      "5               Ashford             3530\n",
      "6               Babergh             1890\n",
      "7  Barking and Dagenham               60\n",
      "8                Barnet            20680\n"
     ]
    }
   ],
   "source": [
    "print(houses_above_0k.head(9))\n",
    "print(houses_above_52k.head(9))\n",
    "print(houses_above_88k.head(9))\n",
    "print(houses_above_160k.head(9))"
   ]
  }
 ],
 "metadata": {
  "kernelspec": {
   "display_name": "Python 3",
   "language": "python",
   "name": "python3"
  },
  "language_info": {
   "codemirror_mode": {
    "name": "ipython",
    "version": 3
   },
   "file_extension": ".py",
   "mimetype": "text/x-python",
   "name": "python",
   "nbconvert_exporter": "python",
   "pygments_lexer": "ipython3",
   "version": "3.8.8"
  }
 },
 "nbformat": 4,
 "nbformat_minor": 5
}
