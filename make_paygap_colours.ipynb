{
 "cells": [
  {
   "cell_type": "code",
   "execution_count": 1,
   "metadata": {},
   "outputs": [],
   "source": [
    "import numpy as np\n",
    "import pandas as pd\n",
    "import os,sys\n",
    "from ast import literal_eval"
   ]
  },
  {
   "cell_type": "markdown",
   "metadata": {},
   "source": [
    "Read the regional paygap data:"
   ]
  },
  {
   "cell_type": "code",
   "execution_count": 2,
   "metadata": {},
   "outputs": [
    {
     "data": {
      "text/html": [
       "<div>\n",
       "<style scoped>\n",
       "    .dataframe tbody tr th:only-of-type {\n",
       "        vertical-align: middle;\n",
       "    }\n",
       "\n",
       "    .dataframe tbody tr th {\n",
       "        vertical-align: top;\n",
       "    }\n",
       "\n",
       "    .dataframe thead th {\n",
       "        text-align: right;\n",
       "    }\n",
       "</style>\n",
       "<table border=\"1\" class=\"dataframe\">\n",
       "  <thead>\n",
       "    <tr style=\"text-align: right;\">\n",
       "      <th></th>\n",
       "      <th>Unnamed: 0</th>\n",
       "      <th>Lat</th>\n",
       "      <th>Lon</th>\n",
       "      <th>MeanDiff</th>\n",
       "      <th>Region</th>\n",
       "      <th>Uni</th>\n",
       "    </tr>\n",
       "  </thead>\n",
       "  <tbody>\n",
       "    <tr>\n",
       "      <th>0</th>\n",
       "      <td>0</td>\n",
       "      <td>[52.8189952]</td>\n",
       "      <td>[-1.03307005]</td>\n",
       "      <td>13.041827</td>\n",
       "      <td>East Midlands</td>\n",
       "      <td>0</td>\n",
       "    </tr>\n",
       "    <tr>\n",
       "      <th>1</th>\n",
       "      <td>1</td>\n",
       "      <td>[52.8189952]</td>\n",
       "      <td>[-1.03307005]</td>\n",
       "      <td>14.216667</td>\n",
       "      <td>East Midlands</td>\n",
       "      <td>1</td>\n",
       "    </tr>\n",
       "    <tr>\n",
       "      <th>2</th>\n",
       "      <td>2</td>\n",
       "      <td>[52.0443714]</td>\n",
       "      <td>[0.28881048]</td>\n",
       "      <td>12.399242</td>\n",
       "      <td>East of England</td>\n",
       "      <td>0</td>\n",
       "    </tr>\n",
       "    <tr>\n",
       "      <th>3</th>\n",
       "      <td>3</td>\n",
       "      <td>[52.0443714]</td>\n",
       "      <td>[0.28881048]</td>\n",
       "      <td>18.171429</td>\n",
       "      <td>East of England</td>\n",
       "      <td>1</td>\n",
       "    </tr>\n",
       "    <tr>\n",
       "      <th>4</th>\n",
       "      <td>4</td>\n",
       "      <td>[51.51111988]</td>\n",
       "      <td>[-0.13177043]</td>\n",
       "      <td>15.159816</td>\n",
       "      <td>London</td>\n",
       "      <td>0</td>\n",
       "    </tr>\n",
       "  </tbody>\n",
       "</table>\n",
       "</div>"
      ],
      "text/plain": [
       "   Unnamed: 0            Lat            Lon   MeanDiff           Region  Uni\n",
       "0           0   [52.8189952]  [-1.03307005]  13.041827    East Midlands    0\n",
       "1           1   [52.8189952]  [-1.03307005]  14.216667    East Midlands    1\n",
       "2           2   [52.0443714]   [0.28881048]  12.399242  East of England    0\n",
       "3           3   [52.0443714]   [0.28881048]  18.171429  East of England    1\n",
       "4           4  [51.51111988]  [-0.13177043]  15.159816           London    0"
      ]
     },
     "execution_count": 2,
     "metadata": {},
     "output_type": "execute_result"
    }
   ],
   "source": [
    "df=pd.read_csv('../paygap_region_data.csv')\n",
    "df.head()"
   ]
  },
  {
   "cell_type": "markdown",
   "metadata": {},
   "source": [
    "Extract the column of pay gap values:"
   ]
  },
  {
   "cell_type": "code",
   "execution_count": 3,
   "metadata": {},
   "outputs": [],
   "source": [
    "paygap=df['MeanDiff']\n",
    "zmin=min(paygap)\n",
    "zmax=max(paygap)"
   ]
  },
  {
   "cell_type": "markdown",
   "metadata": {},
   "source": [
    "Set up a function that converts the values to RGB colour codes:"
   ]
  },
  {
   "cell_type": "code",
   "execution_count": 4,
   "metadata": {},
   "outputs": [],
   "source": [
    "def get_colour_for_val(val, plotly_scale, colours01, vmin, vmax):\n",
    "    if (vmin>=vmax):\n",
    "        raise ValueError('vmin should be < vmax')\n",
    "        \n",
    "    v = (val - vmin) / float((vmax - vmin)) \n",
    "    \n",
    "    idx = 0\n",
    "    while(v>plotly_scale[idx+1]): \n",
    "        idx+=1\n",
    "        \n",
    "    left_scale_val = plotly_scale[idx]\n",
    "    right_scale_val = plotly_scale[idx+1]\n",
    "    vv=(v - left_scale_val)/(right_scale_val - left_scale_val)\n",
    "   \n",
    "    val_colour01=colours01[idx]+vv*(colours01[idx+1]-colours01[idx])\n",
    "    val_colour_0255=map(np.uint8, 255*val_colour01+0.5)\n",
    "    \n",
    "    return 'rgb'+str(tuple(val_colour_0255))"
   ]
  },
  {
   "cell_type": "markdown",
   "metadata": {},
   "source": [
    "Define the colour scale:"
   ]
  },
  {
   "cell_type": "code",
   "execution_count": 5,
   "metadata": {},
   "outputs": [],
   "source": [
    "pl_colourscale= [[0.0, 'rgb(255, 255, 204)'],\n",
    "                [0.35, 'rgb(161, 218, 180)'],\n",
    "                [0.5, 'rgb(65, 182, 196)'], \n",
    "                [0.6, 'rgb(44, 127, 184)'],\n",
    "                [0.7, 'rgb(8, 104, 172)'],\n",
    "                [1.0, 'rgb(37, 52, 148)']] "
   ]
  },
  {
   "cell_type": "markdown",
   "metadata": {},
   "source": [
    "Make the corresponding colours and scales in a mutable form:"
   ]
  },
  {
   "cell_type": "code",
   "execution_count": 6,
   "metadata": {},
   "outputs": [],
   "source": [
    "pl_scale, pl_colours=map(float, np.array(pl_colourscale)[:,0]), np.array(pl_colourscale)[:,1]\n",
    "colours01=np.array(map(literal_eval,[colour[3:] for colour in pl_colours] ))/255.0"
   ]
  },
  {
   "cell_type": "markdown",
   "metadata": {},
   "source": [
    "Calculate the corresponding colour for each pay gap value:"
   ]
  },
  {
   "cell_type": "code",
   "execution_count": 8,
   "metadata": {},
   "outputs": [
    {
     "name": "stderr",
     "output_type": "stream",
     "text": [
      "/opt/local/Library/Frameworks/Python.framework/Versions/2.7/lib/python2.7/site-packages/ipykernel_launcher.py:1: RuntimeWarning: invalid value encountered in log\n",
      "  \"\"\"Entry point for launching an IPython kernel.\n",
      "/opt/local/Library/Frameworks/Python.framework/Versions/2.7/lib/python2.7/site-packages/ipykernel_launcher.py:1: RuntimeWarning: divide by zero encountered in log\n",
      "  \"\"\"Entry point for launching an IPython kernel.\n"
     ]
    }
   ],
   "source": [
    "facecolour=[get_colour_for_val(z, pl_scale, colours01, zmin, zmax) for z in paygap]"
   ]
  },
  {
   "cell_type": "markdown",
   "metadata": {},
   "source": [
    "Put the colours into a column of the pandas dataframe:"
   ]
  },
  {
   "cell_type": "code",
   "execution_count": null,
   "metadata": {},
   "outputs": [],
   "source": [
    "# find out how to add a column of data to a pandas dataframe\n",
    "df['Colours'] = facecolour\n",
    "df.head()"
   ]
  },
  {
   "cell_type": "markdown",
   "metadata": {},
   "source": [
    "Write out the updated csv file:"
   ]
  },
  {
   "cell_type": "code",
   "execution_count": null,
   "metadata": {},
   "outputs": [],
   "source": [
    "# write output csv file:\n",
    "outfile='paygap_region_data_with_colours.csv'\n",
    "if os.path.exists(outfile):\n",
    "    os.sys('rm -rf '+outfile+' \\n')\n",
    "\n",
    "df.to_csv(outfile)"
   ]
  },
  {
   "cell_type": "code",
   "execution_count": null,
   "metadata": {},
   "outputs": [],
   "source": []
  },
  {
   "cell_type": "code",
   "execution_count": null,
   "metadata": {},
   "outputs": [],
   "source": []
  }
 ],
 "metadata": {
  "kernelspec": {
   "display_name": "Python 2",
   "language": "python",
   "name": "python2"
  },
  "language_info": {
   "codemirror_mode": {
    "name": "ipython",
    "version": 2
   },
   "file_extension": ".py",
   "mimetype": "text/x-python",
   "name": "python",
   "nbconvert_exporter": "python",
   "pygments_lexer": "ipython2",
   "version": "2.7.14"
  }
 },
 "nbformat": 4,
 "nbformat_minor": 2
}
