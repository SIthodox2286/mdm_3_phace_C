{
 "cells": [
  {
   "cell_type": "code",
   "execution_count": 2,
   "metadata": {},
   "outputs": [],
   "source": [
    "# This block show how to use pip install within one python script file, rather than via terminal.\n",
    "import subprocess\n",
    "import sys\n",
    "\n",
    "def install(package):\n",
    "    subprocess.check_call([sys.executable, \"-m\", \"pip\", \"install\", package])\n",
    "    \n",
    "install('odfpy')"
   ]
  },
  {
   "cell_type": "code",
   "execution_count": 3,
   "metadata": {},
   "outputs": [],
   "source": [
    "import pandas as pd \n",
    "import numpy as np"
   ]
  },
  {
   "cell_type": "code",
   "execution_count": 4,
   "metadata": {},
   "outputs": [],
   "source": [
    "def any_data_name_load_data():\n",
    "    data = [] # default entry, no need to keep\n",
    "    \n",
    "    # Delete specified rows and columns or making things following A-Z order is easier to be done by Excel than python.\n",
    "    \n",
    "    # For example, .xlsx data:\n",
    "        #data = pd.read_excel('Data/data.xlsx')\n",
    "        # If failed, try this way:\n",
    "           # data = pd.read_excel('Data/data.xlsx',engine='openpyxl')\n",
    "    \n",
    "    # For example, .csv data:\n",
    "        # data = pd.read_csv('Data/data.csv',)\n",
    "    \n",
    "    # For example, .ods data:\n",
    "        # data = pd.read_excel('Data/data.ods', nrows = n) # n is the number of rows you want to load, count from the top\n",
    "    \n",
    "    # data.set_index, set particular row of data as its index, replace the default column counts\n",
    "    # data.iloc, load data entries [x,y], x - index name(s), y - column name(s)\n",
    "    # data.columns, column names\n",
    "    # data.index, row names\n",
    "    \n",
    "    # Following commands need the data to firstly be put into np.array() format(by np.arrary(data))\n",
    "    # data.transpose(), transpose of the data set, I suggest using data.replace(-1,1) for transpose, data.replace(1,-1) to change back\n",
    "    \n",
    "    return data\n"
   ]
  },
  {
   "cell_type": "code",
   "execution_count": null,
   "metadata": {},
   "outputs": [],
   "source": []
  }
 ],
 "metadata": {
  "kernelspec": {
   "display_name": "Python 3",
   "language": "python",
   "name": "python3"
  },
  "language_info": {
   "codemirror_mode": {
    "name": "ipython",
    "version": 3
   },
   "file_extension": ".py",
   "mimetype": "text/x-python",
   "name": "python",
   "nbconvert_exporter": "python",
   "pygments_lexer": "ipython3",
   "version": "3.8.8"
  }
 },
 "nbformat": 4,
 "nbformat_minor": 4
}
